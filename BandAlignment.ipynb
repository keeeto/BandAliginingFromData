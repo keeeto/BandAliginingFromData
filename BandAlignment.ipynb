{
 "cells": [
  {
   "cell_type": "markdown",
   "metadata": {},
   "source": [
    "## Band Alignment Testing\n",
    "#### Simple code for scanning through a databse of ionisation potentials and electron affinities and matching to a given band energy.\n",
    "#### All values are contained in the IP_EA.txt file.\n",
    "#### Where possible data are collected from photemission data.\n",
    "#### The references for all data should be published soon."
   ]
  },
  {
   "cell_type": "code",
   "execution_count": 12,
   "metadata": {
    "collapsed": true
   },
   "outputs": [],
   "source": [
    "# Read in the data\n",
    "f = open('IP_EA.txt','r')\n",
    "lines = f.readlines()\n",
    "f.close()"
   ]
  },
  {
   "cell_type": "markdown",
   "metadata": {},
   "source": [
    "### Here we set our input parameters\n",
    "IP : the ionisation potential you wish to match to.\n",
    "EA : the electron affinity you wish to match to.\n",
    "Window : the discrepancy allowed between material IP and your desired IP is set to +/- 0.5 window."
   ]
  },
  {
   "cell_type": "code",
   "execution_count": 13,
   "metadata": {
    "collapsed": true
   },
   "outputs": [],
   "source": [
    "IP_a = 5.7\n",
    "EA_a = 4.0\n",
    "window = 0.8"
   ]
  },
  {
   "cell_type": "code",
   "execution_count": 14,
   "metadata": {
    "collapsed": false
   },
   "outputs": [],
   "source": [
    "conducting_ETL = []\n",
    "conducting_HTL = []\n",
    "for line in lines:\n",
    "    inp = line.split()\n",
    "    if inp[0] != \"Species\":\n",
    "        Eg = float(inp[1])\n",
    "        EA = float(inp[2])\n",
    "        IP = float(inp[3])\n",
    "        if Eg > 2.0:\n",
    "            if EA >= EA_a - window * 0.5 and EA <= EA_a + window * 0.5:\n",
    "                if Eg < 4.0:\n",
    "                    conducting_ETL.append(inp[0])\n",
    "            if IP <= IP_a + window * 0.5 and IP >= IP_a - window * 0.5:\n",
    "                if Eg < 4.0:\n",
    "                    conducting_HTL.append(inp[0])"
   ]
  },
  {
   "cell_type": "code",
   "execution_count": 15,
   "metadata": {
    "collapsed": false
   },
   "outputs": [
    {
     "name": "stdout",
     "output_type": "stream",
     "text": [
      "Number of potential electron contacting layers:  28\n",
      "Number of potential hole contacting layers:  9\n"
     ]
    }
   ],
   "source": [
    "print \"Number of potential electron contacting layers: \", len(conducting_ETL)\n",
    "print \"Number of potential hole contacting layers: \", len(conducting_HTL)"
   ]
  },
  {
   "cell_type": "code",
   "execution_count": 16,
   "metadata": {
    "collapsed": false
   },
   "outputs": [
    {
     "name": "stdout",
     "output_type": "stream",
     "text": [
      "Conductive electron contacting layers: \n",
      "['SiC', 'GaN', 'GaP', 'SnS2', 'ZnO', 'ZnS', 'ZnSe', 'SnO2', 'In2O3', 'V2O5', 'TiO2', 'SrTiO3', 'Sb2O3', 'NaNbO3', 'KTaO3', 'BaTiO3', 'Nb2O5', 'AlTiO3', 'Ce2O3', 'CoO', 'CuTiO3', 'FeO', 'KNbO3', 'LiNbO3', 'MgTiO3', 'MnTiO3', 'ZnTiO3', 'ZnS2']\n",
      "Conductive hole contacting layers: \n",
      "['ZnTe', 'NiO', 'Cu2O', 'CuI', 'Ce2S3', 'Nd2S3', 'Pr2S3', 'Sm2S3', 'Tb2S3']\n"
     ]
    }
   ],
   "source": [
    "print \"Conductive electron contacting layers: \"\n",
    "print conducting_ETL\n",
    "print \"Conductive hole contacting layers: \"\n",
    "print conducting_HTL"
   ]
  }
 ],
 "metadata": {
  "kernelspec": {
   "display_name": "Python 2",
   "language": "python",
   "name": "python2"
  },
  "language_info": {
   "codemirror_mode": {
    "name": "ipython",
    "version": 2
   },
   "file_extension": ".py",
   "mimetype": "text/x-python",
   "name": "python",
   "nbconvert_exporter": "python",
   "pygments_lexer": "ipython2",
   "version": "2.7.9"
  }
 },
 "nbformat": 4,
 "nbformat_minor": 0
}
